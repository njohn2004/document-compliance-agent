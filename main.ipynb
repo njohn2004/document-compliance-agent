{
 "cells": [
  {
   "cell_type": "markdown",
   "id": "205d684e",
   "metadata": {},
   "source": [
    "## AI Agent to perform document compliance checks"
   ]
  },
  {
   "cell_type": "code",
   "execution_count": null,
   "id": "ca44d3e3",
   "metadata": {},
   "outputs": [],
   "source": [
    "from dotenv import load_dotenv\n",
    "from pydantic import BaseModel, RootModel\n",
    "from langchain_openai import ChatOpenAI\n",
    "from langchain_anthropic import ChatAnthropic\n",
    "from langchain_core.prompts import ChatPromptTemplate\n",
    "from langchain_core.output_parsers import PydanticOutputParser\n",
    "# from langchain_community.chat_models import ChatOllama\n",
    "from langchain.agents import create_tool_calling_agent, AgentExecutor\n",
    "from google_doc_processing import doc_parse\n",
    "import ipywidgets as widgets\n",
    "from IPython.display import display\n",
    "from typing import List\n",
    "import json, os\n",
    "\n",
    "load_dotenv()"
   ]
  },
  {
   "cell_type": "code",
   "execution_count": null,
   "id": "75382b07",
   "metadata": {},
   "outputs": [],
   "source": [
    "llm = ChatAnthropic(model=\"claude-3-5-haiku-20241022\")   \n",
    "\n",
    "\n",
    "class ComplianceResult(BaseModel):\n",
    "    rule: str\n",
    "    status: bool\n",
    "    document: str\n",
    "    reason: str\n",
    "\n",
    "class ComplianceResults(RootModel[List[ComplianceResult]]):\n",
    "    pass\n",
    "\n",
    "\n",
    "parser = PydanticOutputParser(pydantic_object=ComplianceResults)"
   ]
  },
  {
   "cell_type": "code",
   "execution_count": null,
   "id": "22adcf92",
   "metadata": {},
   "outputs": [],
   "source": [
    "prompt = ChatPromptTemplate.from_messages(\n",
    "    [\n",
    "        (\n",
    "            \"system\",\n",
    "            \"\"\"\n",
    "            You are a compliance officer, you must check that the submitted documents follow the given instructions and the given fields match, within a document or across documents, according to the rules given to you.\n",
    "            Check to ensure document field values within the parsed document json file match the rules set out by user query and use neccessary tools to check for the same. For each rule used for matching, state whether they pass or fail, list out documents that do not comply with the specified rule within user query and which field or condition being checked causes the fail.\n",
    "            Wrap the output in this format and provide no other text\\n{format_instructions}\n",
    "            \"\"\",\n",
    "        ),\n",
    "        (\"placeholder\", \"{chat_history}\"),\n",
    "        (\"human\", \"{query}\"),\n",
    "        (\"placeholder\", \"{agent_scratchpad}\"),\n",
    "    ]\n",
    ").partial(format_instructions=parser.get_format_instructions())"
   ]
  },
  {
   "cell_type": "code",
   "execution_count": null,
   "id": "b192cb99",
   "metadata": {},
   "outputs": [],
   "source": [
    "tools =[] #FUTURE:  add tools to more accurately identify type of document / train model to classify documents and extract different kinds of information)\n",
    "agent = create_tool_calling_agent(\n",
    "    tools=tools,\n",
    "    llm=llm,\n",
    "    prompt=prompt\n",
    ")\n",
    "agent_executor = AgentExecutor(agent=agent, tools= tools, verbose=False)"
   ]
  },
  {
   "cell_type": "markdown",
   "id": "61c88643",
   "metadata": {},
   "source": [
    "## Upload and parse documents"
   ]
  },
  {
   "cell_type": "code",
   "execution_count": null,
   "id": "18bdcb76",
   "metadata": {},
   "outputs": [],
   "source": [
    "uploader = widgets.FileUpload(accept='.pdf,.png,.jpg,.jpeg', multiple=True)\n",
    "display(uploader)"
   ]
  },
  {
   "cell_type": "code",
   "execution_count": null,
   "id": "0a8b6194",
   "metadata": {},
   "outputs": [],
   "source": [
    "if uploader.value:\n",
    "    uploaded_files = []\n",
    "    for file_info in uploader.value:\n",
    "        filename = file_info['name']\n",
    "        content = file_info['content']\n",
    "        temp_path = f\"temp_{filename}\"\n",
    "        with open(temp_path, \"wb\") as f:  #FUTURE: add check for file existence\n",
    "            f.write(content)\n",
    "        uploaded_files.append(temp_path)\n",
    "    file_paths = doc_parse.invoke({\"files\": uploaded_files})\n",
    "\n",
    "    print(f\"Parsed document files: {file_paths}\")\n",
    "else:\n",
    "    print(\"No files uploaded.\")"
   ]
  },
  {
   "cell_type": "code",
   "execution_count": null,
   "id": "27e7148c",
   "metadata": {},
   "outputs": [],
   "source": [
    "#delete temporary files\n",
    "for path in uploaded_files:\n",
    "    try:\n",
    "        os.remove(path)\n",
    "        print(f\"Deleted: {path}\")\n",
    "    except FileNotFoundError:\n",
    "        print(f\"File not found: {path}\")\n",
    "    except Exception as e:\n",
    "        print(f\"Error deleting {path}: {e}\")"
   ]
  },
  {
   "cell_type": "code",
   "execution_count": null,
   "id": "ff7a0027",
   "metadata": {},
   "outputs": [],
   "source": [
    "parsed_docs = []\n",
    "for file_path in file_paths:\n",
    "    with open(file_path, \"r\", encoding=\"utf-8\") as f:\n",
    "        parsed_docs.append(json.load(f))\n",
    "\n",
    "doc_string = json.dumps(parsed_docs, indent=2)\n",
    "# print(doc_string)"
   ]
  },
  {
   "cell_type": "markdown",
   "id": "256ea0d2",
   "metadata": {},
   "source": [
    "## Formulate query and extract response"
   ]
  },
  {
   "cell_type": "code",
   "execution_count": null,
   "id": "e41d15f8",
   "metadata": {},
   "outputs": [],
   "source": [
    "rules = input(\"Enter your compliance rules (e.g. due_date must be after invoice_date): \")\n",
    "input_to_agent = {\n",
    "    \"Rules\": f\"Compliance Rules:\\n{rules}\",\n",
    "    \"Documents\" : doc_string\n",
    "}\n",
    "\n",
    "raw_response = agent_executor.invoke({\"query\": input_to_agent})\n",
    "\n",
    "try:\n",
    "    structured_response = parser.parse(raw_response.get(\"output\")[0][\"text\"])\n",
    "    for rule in structured_response.root:\n",
    "        print(f\"Rule     : {rule.rule}\")\n",
    "        print(f\"Status   : {rule.status}\")\n",
    "        print(f\"Document : {rule.document}\")\n",
    "        print(f\"Reason   : {rule.reason}\")\n",
    "        print(\"-\" * 40)\n",
    "except Exception as e:\n",
    "    print(\"Error parsing response\", e, \"Raw Response - \", raw_response)"
   ]
  }
 ],
 "metadata": {
  "kernelspec": {
   "display_name": "ai_agent",
   "language": "python",
   "name": "python3"
  },
  "language_info": {
   "codemirror_mode": {
    "name": "ipython",
    "version": 3
   },
   "file_extension": ".py",
   "mimetype": "text/x-python",
   "name": "python",
   "nbconvert_exporter": "python",
   "pygments_lexer": "ipython3",
   "version": "3.13.2"
  }
 },
 "nbformat": 4,
 "nbformat_minor": 5
}
