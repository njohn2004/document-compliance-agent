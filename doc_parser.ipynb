{
 "cells": [
  {
   "cell_type": "markdown",
   "id": "89560c1a",
   "metadata": {},
   "source": [
    "## Alternate open source based document parsing script without Google Document AI (draft)"
   ]
  },
  {
   "cell_type": "code",
   "execution_count": 51,
   "id": "f6fbba4b",
   "metadata": {},
   "outputs": [],
   "source": [
    "import layoutparser as lp\n",
    "import pytesseract\n",
    "from pdf2image import convert_from_bytes\n",
    "from PIL import Image\n",
    "import cv2\n",
    "import json\n",
    "import os\n",
    "from io import BytesIO\n",
    "import ipywidgets as widgets\n",
    "from IPython.display import display\n",
    "from pathlib import Path\n",
    "import numpy as np"
   ]
  },
  {
   "cell_type": "code",
   "execution_count": 52,
   "id": "cccc93d3",
   "metadata": {},
   "outputs": [
    {
     "data": {
      "application/vnd.jupyter.widget-view+json": {
       "model_id": "569bd8f30aa1474c9e1d2f55c282c3df",
       "version_major": 2,
       "version_minor": 0
      },
      "text/plain": [
       "FileUpload(value=(), accept='.pdf,.png,.jpg,.jpeg', description='Upload', multiple=True)"
      ]
     },
     "metadata": {},
     "output_type": "display_data"
    }
   ],
   "source": [
    "uploader = widgets.FileUpload(accept='.pdf,.png,.jpg,.jpeg', multiple=True)\n",
    "display(uploader)"
   ]
  },
  {
   "cell_type": "code",
   "execution_count": 53,
   "id": "d8228152",
   "metadata": {},
   "outputs": [],
   "source": [
    "def correct_orientation(image):\n",
    "    \"\"\"Detect and rotate the image based on orientation metadata from Tesseract.\"\"\"\n",
    "    try:\n",
    "        osd = pytesseract.image_to_osd(image)\n",
    "        rotate_angle = int([line for line in osd.split('\\n') if 'Rotate' in line][0].split(':')[1])\n",
    "        if rotate_angle != 0:\n",
    "            print(f\"Rotating image by {rotate_angle} degrees\")\n",
    "            image = image.rotate(360 - rotate_angle, expand=True)\n",
    "    except pytesseract.TesseractError as e:\n",
    "        print(\"OSD detection failed:\", e)\n",
    "    return image"
   ]
  },
  {
   "cell_type": "code",
   "execution_count": 54,
   "id": "c6ab74e5",
   "metadata": {},
   "outputs": [],
   "source": [
    "def process_image(image, filename, page_num=None):\n",
    "    display_name = f\"{filename}_page{page_num}\" if page_num is not None else filename\n",
    "    print(f\"Processing image: {display_name}\")\n",
    "    output_loc = os.path.join(r\"C:\\Users\\nehaj\\OneDrive\\Desktop\\AI_agent\\test_json\", display_name + \"_ocr.json\")\n",
    "    # Correct orientation\n",
    "    image = correct_orientation(image)\n",
    "    \n",
    "    # OCR using Tesseract\n",
    "    ocr_text = pytesseract.image_to_string(image)\n",
    "\n",
    "    result = {\n",
    "        \"filename\": output_loc,\n",
    "        \"ocr_text\": ocr_text,\n",
    "        \"text_blocks\": []\n",
    "    }\n",
    "\n",
    "    # Save output as JSON\n",
    "    with open(output_loc, \"w\", encoding=\"utf-8\") as f:\n",
    "        json.dump(result, f, indent=2, ensure_ascii=False)\n",
    "    \n",
    "    print(f\"Saved OCR output to {output_loc}\")"
   ]
  },
  {
   "cell_type": "code",
   "execution_count": 55,
   "id": "5229ef49",
   "metadata": {},
   "outputs": [],
   "source": [
    "def process_uploaded_files(files):\n",
    "    for file in files:\n",
    "        file_name = file['name']\n",
    "        file_content = file['content']\n",
    "\n",
    "        print(f\"\\nProcessing uploaded file: {file_name}\")\n",
    "        \n",
    "        # Handle PDFs\n",
    "        if file_name.lower().endswith('.pdf'):\n",
    "            try:\n",
    "                images = convert_from_bytes(file_content)\n",
    "                for page_num, image in enumerate(images, start=1):\n",
    "                    process_image(image, os.path.splitext(file_name)[0], page_num)\n",
    "            except Exception as e:\n",
    "                print(f\"Failed to process PDF {file_name}: {e}\")\n",
    "\n",
    "        # Handle image files\n",
    "        elif file_name.lower().endswith(('.png', '.jpg', '.jpeg')):\n",
    "            try:\n",
    "                image = Image.open(io.BytesIO(file_content)).convert(\"RGB\")\n",
    "                process_image(image, os.path.splitext(file_name)[0])\n",
    "            except Exception as e:\n",
    "                print(f\"Failed to process image {file_name}: {e}\")\n",
    "        \n",
    "        else:\n",
    "            print(f\"Unsupported file type: {file_name}\")\n"
   ]
  },
  {
   "cell_type": "code",
   "execution_count": 56,
   "id": "0cc7cd10",
   "metadata": {},
   "outputs": [
    {
     "name": "stdout",
     "output_type": "stream",
     "text": [
      "\n",
      "Processing uploaded file: truck consignment, exit certificate, delivery note.pdf\n",
      "Processing image: truck consignment, exit certificate, delivery note_page1\n",
      "Rotating image by 90 degrees\n",
      "Saved OCR output to C:\\Users\\nehaj\\OneDrive\\Desktop\\AI_agent\\test_json\\truck consignment, exit certificate, delivery note_page1_ocr.json\n",
      "Processing image: truck consignment, exit certificate, delivery note_page2\n",
      "Saved OCR output to C:\\Users\\nehaj\\OneDrive\\Desktop\\AI_agent\\test_json\\truck consignment, exit certificate, delivery note_page2_ocr.json\n",
      "Processing image: truck consignment, exit certificate, delivery note_page3\n",
      "Saved OCR output to C:\\Users\\nehaj\\OneDrive\\Desktop\\AI_agent\\test_json\\truck consignment, exit certificate, delivery note_page3_ocr.json\n",
      "Processing image: truck consignment, exit certificate, delivery note_page4\n",
      "Saved OCR output to C:\\Users\\nehaj\\OneDrive\\Desktop\\AI_agent\\test_json\\truck consignment, exit certificate, delivery note_page4_ocr.json\n"
     ]
    }
   ],
   "source": [
    "if uploader.value:\n",
    "    process_uploaded_files(uploader.value)"
   ]
  }
 ],
 "metadata": {
  "kernelspec": {
   "display_name": "ai_agent",
   "language": "python",
   "name": "python3"
  },
  "language_info": {
   "codemirror_mode": {
    "name": "ipython",
    "version": 3
   },
   "file_extension": ".py",
   "mimetype": "text/x-python",
   "name": "python",
   "nbconvert_exporter": "python",
   "pygments_lexer": "ipython3",
   "version": "3.13.2"
  }
 },
 "nbformat": 4,
 "nbformat_minor": 5
}
